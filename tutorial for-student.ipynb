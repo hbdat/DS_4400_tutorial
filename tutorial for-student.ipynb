{
 "cells": [
  {
   "cell_type": "markdown",
   "source": [
    "# Banana Freshness and Counting Tasks"
   ],
   "metadata": {}
  },
  {
   "cell_type": "markdown",
   "source": [
    "We will solve two simple tasks: \n",
    "\n",
    "1. estimating the freshness of a banana;\n",
    "2. counting the number of bananas in a image\n",
    "\n",
    "We solve them by analysing the image pixel values with machine learning algorithms."
   ],
   "metadata": {}
  },
  {
   "cell_type": "code",
   "execution_count": null,
   "source": [
    "import numpy as np\r\n",
    "import matplotlib.pyplot as plt\r\n",
    "%matplotlib inline\r\n",
    "import os\r\n",
    "from PIL import Image"
   ],
   "outputs": [],
   "metadata": {}
  },
  {
   "cell_type": "markdown",
   "source": [
    "# 1. Extract Image"
   ],
   "metadata": {}
  },
  {
   "cell_type": "code",
   "execution_count": null,
   "source": [
    "import zipfile\r\n",
    "with zipfile.ZipFile(\"data.zip\",\"r\") as zip_ref:\r\n",
    "    zip_ref.extractall(\".\")"
   ],
   "outputs": [],
   "metadata": {}
  },
  {
   "cell_type": "markdown",
   "source": [
    "# 2. Load Images"
   ],
   "metadata": {}
  },
  {
   "cell_type": "code",
   "execution_count": null,
   "source": [
    "image_file = './Counting/1-1-F.png'\r\n",
    "\r\n",
    "example = Image.open(image_file)\r\n",
    "print(\"the image is stored as a %s object\" % (type(example)) )\r\n",
    "print(\"The size of the image is\", example.size)\r\n",
    "\r\n",
    "plt.imshow(example)\r\n",
    "plt.show()"
   ],
   "outputs": [],
   "metadata": {}
  },
  {
   "cell_type": "markdown",
   "source": [
    "## 2.1 read in freshness data"
   ],
   "metadata": {}
  },
  {
   "cell_type": "code",
   "execution_count": null,
   "source": [
    "# list all the files in 'Counting' folder\r\n",
    "folder = './Freshness/'\r\n",
    "images = os.listdir(folder)\r\n",
    "for image_filename in images:\r\n",
    "    print(image_filename) # image_file is a string"
   ],
   "outputs": [],
   "metadata": {
    "scrolled": true
   }
  },
  {
   "cell_type": "code",
   "execution_count": null,
   "source": [
    "# store all data in a dictionary called 'freshness_data'\r\n",
    "# the key will be the image filename.\r\n",
    "# the value will be the list of two value: the image and its label (float)\r\n",
    "\r\n",
    "## NOTE: the label of the image is its filename without the 4-letter extension postfix (.png)\r\n",
    "## ie: 0.15.png means the image label is 0.15\r\n",
    "\r\n",
    "freshness_data = {}\r\n",
    "for image_filename in images:\r\n",
    "    if image_filename.endswith('.png'):\r\n",
    "        full_path = os.path.join(folder, image_filename)\r\n",
    "        img = Image.open(full_path)\r\n",
    "        label = float(image_filename.rstrip('.png'))\r\n",
    "        freshness_data[image_filename] = [img, label]"
   ],
   "outputs": [],
   "metadata": {}
  },
  {
   "cell_type": "code",
   "execution_count": null,
   "source": [
    "# plot the images by label\r\n",
    "\r\n",
    "## first, sort all images by label(freshness)\r\n",
    "data_list = []\r\n",
    "for image_filename, data in freshness_data.items():\r\n",
    "    data_list.append(data)\r\n",
    "    \r\n",
    "data_list.sort(key=lambda x: x[1], reverse=True)"
   ],
   "outputs": [],
   "metadata": {}
  },
  {
   "cell_type": "code",
   "execution_count": null,
   "source": [
    "## second, plot the images and print out their labels.\r\n",
    "for data in data_list:\r\n",
    "    image, label = data\r\n",
    "    plt.imshow(image)\r\n",
    "    plt.title('Freshness %.2f' % label)\r\n",
    "    plt.show()"
   ],
   "outputs": [],
   "metadata": {
    "scrolled": true
   }
  },
  {
   "cell_type": "markdown",
   "source": [
    "## 2.2 read in banana counting images"
   ],
   "metadata": {}
  },
  {
   "cell_type": "code",
   "execution_count": null,
   "source": [
    "# list all the files in 'Counting' folder\r\n",
    "folder = './Counting/'\r\n",
    "images = os.listdir(folder)\r\n",
    "for image_filename in images:\r\n",
    "    print(image_filename) # image_file is a string"
   ],
   "outputs": [],
   "metadata": {}
  },
  {
   "cell_type": "code",
   "execution_count": null,
   "source": [
    "# store all data in a dictionary called 'counting_data'\r\n",
    "# the key will be the image filename.\r\n",
    "# the value will be the list of three values: the image and its two labels \r\n",
    "# the two labels are: 'the number of banana in the image' (integer) and 'if the bananas are fresh or rotten' (bool)\r\n",
    "\r\n",
    "## NOTE: the labels of a image are the first and the last letters of its filename.\r\n",
    "## example: counting_data { '1-1-F.png' : [ image_object, 1, 'F' ], .... }\r\n",
    "\r\n",
    "counting_data = {}\r\n",
    "for image_filename in images:\r\n",
    "    if image_filename.endswith('.png'):\r\n",
    "        pass # TODO"
   ],
   "outputs": [],
   "metadata": {}
  },
  {
   "cell_type": "code",
   "execution_count": null,
   "source": [
    "# plot image by the number of banana\r\n",
    "\r\n",
    "## first, regroup images according to their labels\r\n",
    "## label_group should be a dictionary with three keys: 1, 2 3\r\n",
    "## e.g. the value of key X is a list, storing the images with X bananas\r\n",
    "\r\n",
    "label_group = {}\r\n",
    "for image_filename, data in counting_data.items():\r\n",
    "    pass # TODO"
   ],
   "outputs": [],
   "metadata": {}
  },
  {
   "cell_type": "code",
   "execution_count": null,
   "source": [
    "## second, plot the images of each label\r\n",
    "for label in [1, 2, 3]:\r\n",
    "    img_list = label_group[label]\r\n",
    "    # TODO"
   ],
   "outputs": [],
   "metadata": {
    "scrolled": true
   }
  },
  {
   "cell_type": "markdown",
   "source": [
    "# 3. resize image to a uniform size"
   ],
   "metadata": {}
  },
  {
   "cell_type": "code",
   "execution_count": null,
   "source": [
    "plt.imshow(example)\r\n",
    "plt.show()\r\n",
    "print(\"the original size is\", example.size)\r\n",
    "example_small = example.resize([224, 224])\r\n",
    "plt.imshow(example_small)\r\n",
    "plt.show()\r\n",
    "print(\"the new size is\", example_small.size)"
   ],
   "outputs": [],
   "metadata": {
    "scrolled": true
   }
  },
  {
   "cell_type": "code",
   "execution_count": null,
   "source": [
    "# resize all freshness data\r\n",
    "for image_filename, data in freshness_data.items():\r\n",
    "    image, label = data\r\n",
    "    image = image.resize([224, 224])\r\n",
    "    freshness_data[image_filename] = [image, label]"
   ],
   "outputs": [],
   "metadata": {}
  },
  {
   "cell_type": "code",
   "execution_count": null,
   "source": [
    "# resize all counting data\r\n",
    "for image_filename, data in counting_data.items():\r\n",
    "    pass # TODO"
   ],
   "outputs": [],
   "metadata": {}
  },
  {
   "cell_type": "markdown",
   "source": [
    "# Part 2"
   ],
   "metadata": {}
  },
  {
   "cell_type": "code",
   "execution_count": null,
   "source": [
    "# segment banana pixel from background\r\n",
    "\r\n",
    "## for simplification, convert to image into gray scale\r\n",
    "## compute a foreground/background threshold as the mean value of all gray-scale pixel\r\n",
    "## given the threshold, compute a binary mask having 1 for foreground pixel (banana) and 0 otherwise\r\n",
    "## output a dictionary [seg_data] as { '0.3.png' : {'img_gray':[numpy.array],'mask_fg':[numpy.array]}, .... }\r\n",
    "\r\n",
    "def segment(data,verbose=False):\r\n",
    "    seg_data = {}\r\n",
    "    for k in data.keys():\r\n",
    "        img_gray = None \r\n",
    "        \r\n",
    "        thres_bg = None\r\n",
    "        mask_fg = None\r\n",
    "        \r\n",
    "        seg_data[k] = None\r\n",
    "\r\n",
    "        if verbose:\r\n",
    "            print('----- {} ------'.format(k))\r\n",
    "            plt.imshow(img_gray,cmap=plt.get_cmap('gray'))\r\n",
    "            plt.show()\r\n",
    "            plt.imshow(mask_fg,cmap=plt.get_cmap('gray'))\r\n",
    "            plt.show()\r\n",
    "    \r\n",
    "    return seg_data "
   ],
   "outputs": [],
   "metadata": {}
  },
  {
   "cell_type": "code",
   "execution_count": null,
   "source": [
    "# segment images in [freshness_data] and [counting_data]\r\n",
    "## set verbose=True to visualize the result\r\n",
    "\r\n",
    "seg_freshness = segment(freshness_data,verbose=False)\r\n",
    "seg_counting = segment(counting_data,verbose=False)"
   ],
   "outputs": [],
   "metadata": {}
  },
  {
   "cell_type": "markdown",
   "source": [
    "## Freshness prediction (Regression)"
   ],
   "metadata": {}
  },
  {
   "cell_type": "markdown",
   "source": [
    "### Feature extraction"
   ],
   "metadata": {}
  },
  {
   "cell_type": "code",
   "execution_count": null,
   "source": [
    "# compute [skin_color] for each image\r\n",
    "# collect [freshness] value for each image\r\n",
    "\r\n",
    "skin_color = []\r\n",
    "freshness = []\r\n",
    "\r\n",
    "for k in seg_freshness.keys():\r\n",
    "    ## [avg_color] is the average value of all foreground pixels based on [mask_fg]\r\n",
    "    ## [r] is the target freshness value stored in [freshness_data] \r\n",
    "    avg_color = None    # TODO\r\n",
    "    r = None            # TODO\r\n",
    "    # TODO: store [avr_color], [r] into [skin_color], [freshness] lists respectively\r\n",
    "\r\n",
    "# construct numpy.array from above lists with approriate dimensions\r\n",
    "skin_color = np.array(skin_color)[:,np.newaxis]\r\n",
    "freshness = np.array(freshness)\r\n",
    "\r\n",
    "# plot data distribution\r\n",
    "plt.scatter(skin_color,freshness)\r\n",
    "plt.title('Freshness prediction')\r\n",
    "plt.xlabel(\"yellowness\")\r\n",
    "plt.ylabel(\"freshness\")\r\n",
    "plt.show()"
   ],
   "outputs": [],
   "metadata": {
    "scrolled": true
   }
  },
  {
   "cell_type": "markdown",
   "source": [
    "### Linear Regression"
   ],
   "metadata": {}
  },
  {
   "cell_type": "code",
   "execution_count": null,
   "source": [
    "# plot predictions vs ground_truth for model evaluation\r\n",
    "def plot_pred(x,y,pred_x, pred_y, title = ''):\r\n",
    "    plt.scatter(x,y)\r\n",
    "    plt.plot(pred_x,pred_y,c='red')\r\n",
    "    plt.title(title)\r\n",
    "    plt.xlabel(\"yellowness\")\r\n",
    "    plt.ylabel(\"freshness\")\r\n",
    "    plt.show()"
   ],
   "outputs": [],
   "metadata": {}
  },
  {
   "cell_type": "code",
   "execution_count": null,
   "source": [
    "# fit a linear Regession model\r\n",
    "\r\n",
    "from sklearn.linear_model import LinearRegression\r\n",
    "\r\n",
    "reg = None # TODO\r\n",
    "pred_skin_color = np.linspace(skin_color.min(), skin_color.max(), 500)[:,np.newaxis]\r\n",
    "pred_freshness = reg.predict(pred_skin_color)\r\n",
    "\r\n",
    "plot_pred(skin_color,freshness,pred_skin_color,pred_freshness,'linear regression')"
   ],
   "outputs": [],
   "metadata": {}
  },
  {
   "cell_type": "markdown",
   "source": [
    "### Quaratic Regression"
   ],
   "metadata": {}
  },
  {
   "cell_type": "code",
   "execution_count": null,
   "source": [
    "# expand feature vector by adding higher order terms\r\n",
    "\r\n",
    "## create a new numpy array consisting of [x, x^2, ..., x^degree]\r\n",
    "\r\n",
    "def feature_transform(x,degree):\r\n",
    "    pass # TODO"
   ],
   "outputs": [],
   "metadata": {}
  },
  {
   "cell_type": "code",
   "execution_count": null,
   "source": [
    "# fit a linear Regession model on the transformed feature with degree 2\r\n",
    "\r\n",
    "degree = 2\r\n",
    "\r\n",
    "reg = None # TODO\r\n",
    "pred_skin_color = np.linspace(skin_color.min(), skin_color.max(), 500)[:,np.newaxis]\r\n",
    "pred_freshness = reg.predict(feature_transform(pred_skin_color,degree))\r\n",
    "\r\n",
    "plot_pred(skin_color,freshness,pred_skin_color,pred_freshness,'quadratic regression')"
   ],
   "outputs": [],
   "metadata": {}
  },
  {
   "cell_type": "markdown",
   "source": [
    "### Higher Polynomial Regression"
   ],
   "metadata": {}
  },
  {
   "cell_type": "code",
   "execution_count": null,
   "source": [
    "# fit a linear Regession model on the transformed feature with degree 10\r\n",
    "\r\n",
    "degree = 10\r\n",
    "\r\n",
    "reg = None # TODO\r\n",
    "pred_skin_color = np.linspace(skin_color.min(), skin_color.max(), 500)[:,np.newaxis]\r\n",
    "pred_freshness = reg.predict(feature_transform(pred_skin_color,degree))\r\n",
    "\r\n",
    "plot_pred(skin_color,freshness,pred_skin_color,pred_freshness, title = 'High-Order Polynomial Regression')"
   ],
   "outputs": [],
   "metadata": {}
  },
  {
   "cell_type": "markdown",
   "source": [
    "## Banana Count and Quality (Clustering)"
   ],
   "metadata": {}
  },
  {
   "cell_type": "code",
   "execution_count": null,
   "source": [
    "# compute [skin_color] and [fg_area] for each image\r\n",
    "# collect [count] (number of banana) and [quality] (Fresh or Rotten) for each image\r\n",
    "\r\n",
    "skin_color = []\r\n",
    "fg_area = []\r\n",
    "count = []\r\n",
    "quality = []\r\n",
    "\r\n",
    "for k in seg_counting.keys():\r\n",
    "    ## [avg_color] is the average value of all foreground pixels based on [mask_fg]\r\n",
    "    ## [area] is the number of foreground pixels based on [mask_fg]\r\n",
    "    ## [c] and [q] are banana count and quality stored in [counting_data] \r\n",
    "    avg_color = None    # TODO\r\n",
    "    area = None         # TODO\r\n",
    "    c = None            # TODO\r\n",
    "    q = None            # TODO\r\n",
    "\r\n",
    "    # TODO: store [avr_color], [area], [c], [q] into [skin_color], [fg_area], [count], [quality] lists respectively\r\n",
    "\r\n",
    "# construct numpy.array from above lists with approriate dimensions\r\n",
    "skin_color = np.array(skin_color)[:,np.newaxis]\r\n",
    "fg_area = np.array(fg_area)[:,np.newaxis]\r\n",
    "\r\n",
    "# plot data distribution\r\n",
    "plt.scatter(skin_color,fg_area)\r\n",
    "for i, (c,q) in enumerate(zip(count,quality)):\r\n",
    "    plt.annotate(\"{}_{}\".format(c,q), (skin_color[i], fg_area[i]),size=15, c='red')\r\n",
    "\r\n",
    "plt.title('Banana Count and Quality')\r\n",
    "plt.xlabel(\"yellowness\")\r\n",
    "plt.ylabel(\"foreground area\")\r\n",
    "plt.show()"
   ],
   "outputs": [],
   "metadata": {}
  },
  {
   "cell_type": "markdown",
   "source": [
    "### KMeans"
   ],
   "metadata": {}
  },
  {
   "cell_type": "code",
   "execution_count": null,
   "source": [
    "# Normalize input feature in the range of [0,1]\r\n",
    "\r\n",
    "## compute range of x (max(x)-min(x))\r\n",
    "## compute mean of x\r\n",
    "## normalize data as (x-mean_x)/range_x\r\n",
    "\r\n",
    "def normalize(x):\r\n",
    "    pass\r\n",
    "    # TODO"
   ],
   "outputs": [],
   "metadata": {}
  },
  {
   "cell_type": "code",
   "execution_count": null,
   "source": [
    "from sklearn.cluster import KMeans\r\n",
    "\r\n",
    "random_state = 170\r\n",
    "X = None        # TODO: compute input features by concatenate [skin_color] and [fg_area] among the last dimension \r\n",
    "y_pred = None   # TODO: fit a Kmean with 4 clusters\r\n",
    "\r\n",
    "# plot the predicted clusters\r\n",
    "plt.scatter(X[:, 0], X[:, 1], c=y_pred)\r\n",
    "\r\n",
    "for i, (c,q) in enumerate(zip(count,quality)):\r\n",
    "    plt.annotate(\"{}_{}\".format(c,q), (X[i, 0], X[i, 1]),size=15, c='red')\r\n",
    "\r\n",
    "plt.title('Banana Count and Quality')\r\n",
    "plt.xlabel(\"yellowness\")\r\n",
    "plt.ylabel(\"foreground area\")\r\n",
    "plt.show()"
   ],
   "outputs": [],
   "metadata": {}
  },
  {
   "cell_type": "code",
   "execution_count": null,
   "source": [],
   "outputs": [],
   "metadata": {}
  }
 ],
 "metadata": {
  "interpreter": {
   "hash": "5053848f1e1ce6d9c67b4d0af35009a6322e9959d1af6f676e18003e4a846f54"
  },
  "kernelspec": {
   "display_name": "Python 3",
   "language": "python",
   "name": "python3"
  },
  "language_info": {
   "codemirror_mode": {
    "name": "ipython",
    "version": 3
   },
   "file_extension": ".py",
   "mimetype": "text/x-python",
   "name": "python",
   "nbconvert_exporter": "python",
   "pygments_lexer": "ipython3",
   "version": "3.8.5"
  }
 },
 "nbformat": 4,
 "nbformat_minor": 4
}